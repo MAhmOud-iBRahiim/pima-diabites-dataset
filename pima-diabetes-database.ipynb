{
 "cells": [
  {
   "cell_type": "code",
   "execution_count": 1,
   "metadata": {
    "_cell_guid": "b1076dfc-b9ad-4769-8c92-a6c4dae69d19",
    "_uuid": "8f2839f25d086af736a60e9eeb907d3b93b6e0e5",
    "execution": {
     "iopub.execute_input": "2020-11-28T13:06:28.853846Z",
     "iopub.status.busy": "2020-11-28T13:06:28.853093Z",
     "iopub.status.idle": "2020-11-28T13:06:28.865574Z",
     "shell.execute_reply": "2020-11-28T13:06:28.864817Z"
    },
    "papermill": {
     "duration": 0.052011,
     "end_time": "2020-11-28T13:06:28.865683",
     "exception": false,
     "start_time": "2020-11-28T13:06:28.813672",
     "status": "completed"
    },
    "tags": []
   },
   "outputs": [
    {
     "name": "stdout",
     "output_type": "stream",
     "text": [
      "/kaggle/input/pima-indians-diabetes-database/diabetes.csv\n"
     ]
    }
   ],
   "source": [
    "# This Python 3 environment comes with many helpful analytics libraries installed\n",
    "# It is defined by the kaggle/python Docker image: https://github.com/kaggle/docker-python\n",
    "# For example, here's several helpful packages to load\n",
    "\n",
    "import numpy as np # linear algebra\n",
    "import pandas as pd # data processing, CSV file I/O (e.g. pd.read_csv)\n",
    "\n",
    "# Input data files are available in the read-only \"../input/\" directory\n",
    "# For example, running this (by clicking run or pressing Shift+Enter) will list all files under the input directory\n",
    "\n",
    "import os\n",
    "for dirname, _, filenames in os.walk('/kaggle/input'):\n",
    "    for filename in filenames:\n",
    "        print(os.path.join(dirname, filename))\n",
    "\n",
    "# You can write up to 20GB to the current directory (/kaggle/working/) that gets preserved as output when you create a version using \"Save & Run All\" \n",
    "# You can also write temporary files to /kaggle/temp/, but they won't be saved outside of the current session"
   ]
  },
  {
   "cell_type": "code",
   "execution_count": 2,
   "metadata": {
    "_cell_guid": "79c7e3d0-c299-4dcb-8224-4455121ee9b0",
    "_uuid": "d629ff2d2480ee46fbb7e2d37f6b5fab8052498a",
    "execution": {
     "iopub.execute_input": "2020-11-28T13:06:28.935637Z",
     "iopub.status.busy": "2020-11-28T13:06:28.934797Z",
     "iopub.status.idle": "2020-11-28T13:06:30.214017Z",
     "shell.execute_reply": "2020-11-28T13:06:30.212838Z"
    },
    "papermill": {
     "duration": 1.316363,
     "end_time": "2020-11-28T13:06:30.214177",
     "exception": false,
     "start_time": "2020-11-28T13:06:28.897814",
     "status": "completed"
    },
    "tags": []
   },
   "outputs": [],
   "source": [
    "#used libraries\n",
    "import pandas as pd\n",
    "import numpy as np\n",
    "import matplotlib.pyplot as plt\n",
    "import seaborn as sns\n",
    "from sklearn.neighbors import KNeighborsClassifier\n",
    "from sklearn.preprocessing import StandardScaler\n",
    "from sklearn.model_selection import train_test_split\n",
    "from sklearn.metrics import confusion_matrix\n",
    "from sklearn.preprocessing import MinMaxScaler as Scaler\n",
    "from sklearn.metrics import classification_report\n",
    "from sklearn.svm import SVC"
   ]
  },
  {
   "cell_type": "code",
   "execution_count": 3,
   "metadata": {
    "execution": {
     "iopub.execute_input": "2020-11-28T13:06:30.284566Z",
     "iopub.status.busy": "2020-11-28T13:06:30.283541Z",
     "iopub.status.idle": "2020-11-28T13:06:30.293969Z",
     "shell.execute_reply": "2020-11-28T13:06:30.293403Z"
    },
    "papermill": {
     "duration": 0.046772,
     "end_time": "2020-11-28T13:06:30.294070",
     "exception": false,
     "start_time": "2020-11-28T13:06:30.247298",
     "status": "completed"
    },
    "tags": []
   },
   "outputs": [],
   "source": [
    "#load data\n",
    "data_set=pd.read_csv(\"../input/pima-indians-diabetes-database/diabetes.csv\")"
   ]
  },
  {
   "cell_type": "markdown",
   "metadata": {
    "papermill": {
     "duration": 0.031625,
     "end_time": "2020-11-28T13:06:30.356712",
     "exception": false,
     "start_time": "2020-11-28T13:06:30.325087",
     "status": "completed"
    },
    "tags": []
   },
   "source": [
    "# Exploring Data"
   ]
  },
  {
   "cell_type": "code",
   "execution_count": 4,
   "metadata": {
    "execution": {
     "iopub.execute_input": "2020-11-28T13:06:30.447753Z",
     "iopub.status.busy": "2020-11-28T13:06:30.444992Z",
     "iopub.status.idle": "2020-11-28T13:06:30.457817Z",
     "shell.execute_reply": "2020-11-28T13:06:30.458414Z"
    },
    "papermill": {
     "duration": 0.066031,
     "end_time": "2020-11-28T13:06:30.458540",
     "exception": false,
     "start_time": "2020-11-28T13:06:30.392509",
     "status": "completed"
    },
    "tags": []
   },
   "outputs": [
    {
     "data": {
      "text/html": [
       "<div>\n",
       "<style scoped>\n",
       "    .dataframe tbody tr th:only-of-type {\n",
       "        vertical-align: middle;\n",
       "    }\n",
       "\n",
       "    .dataframe tbody tr th {\n",
       "        vertical-align: top;\n",
       "    }\n",
       "\n",
       "    .dataframe thead th {\n",
       "        text-align: right;\n",
       "    }\n",
       "</style>\n",
       "<table border=\"1\" class=\"dataframe\">\n",
       "  <thead>\n",
       "    <tr style=\"text-align: right;\">\n",
       "      <th></th>\n",
       "      <th>Pregnancies</th>\n",
       "      <th>Glucose</th>\n",
       "      <th>BloodPressure</th>\n",
       "      <th>SkinThickness</th>\n",
       "      <th>Insulin</th>\n",
       "      <th>BMI</th>\n",
       "      <th>DiabetesPedigreeFunction</th>\n",
       "      <th>Age</th>\n",
       "      <th>Outcome</th>\n",
       "    </tr>\n",
       "  </thead>\n",
       "  <tbody>\n",
       "    <tr>\n",
       "      <th>0</th>\n",
       "      <td>6</td>\n",
       "      <td>148</td>\n",
       "      <td>72</td>\n",
       "      <td>35</td>\n",
       "      <td>0</td>\n",
       "      <td>33.6</td>\n",
       "      <td>0.627</td>\n",
       "      <td>50</td>\n",
       "      <td>1</td>\n",
       "    </tr>\n",
       "    <tr>\n",
       "      <th>1</th>\n",
       "      <td>1</td>\n",
       "      <td>85</td>\n",
       "      <td>66</td>\n",
       "      <td>29</td>\n",
       "      <td>0</td>\n",
       "      <td>26.6</td>\n",
       "      <td>0.351</td>\n",
       "      <td>31</td>\n",
       "      <td>0</td>\n",
       "    </tr>\n",
       "    <tr>\n",
       "      <th>2</th>\n",
       "      <td>8</td>\n",
       "      <td>183</td>\n",
       "      <td>64</td>\n",
       "      <td>0</td>\n",
       "      <td>0</td>\n",
       "      <td>23.3</td>\n",
       "      <td>0.672</td>\n",
       "      <td>32</td>\n",
       "      <td>1</td>\n",
       "    </tr>\n",
       "    <tr>\n",
       "      <th>3</th>\n",
       "      <td>1</td>\n",
       "      <td>89</td>\n",
       "      <td>66</td>\n",
       "      <td>23</td>\n",
       "      <td>94</td>\n",
       "      <td>28.1</td>\n",
       "      <td>0.167</td>\n",
       "      <td>21</td>\n",
       "      <td>0</td>\n",
       "    </tr>\n",
       "    <tr>\n",
       "      <th>4</th>\n",
       "      <td>0</td>\n",
       "      <td>137</td>\n",
       "      <td>40</td>\n",
       "      <td>35</td>\n",
       "      <td>168</td>\n",
       "      <td>43.1</td>\n",
       "      <td>2.288</td>\n",
       "      <td>33</td>\n",
       "      <td>1</td>\n",
       "    </tr>\n",
       "  </tbody>\n",
       "</table>\n",
       "</div>"
      ],
      "text/plain": [
       "   Pregnancies  Glucose  BloodPressure  SkinThickness  Insulin   BMI  \\\n",
       "0            6      148             72             35        0  33.6   \n",
       "1            1       85             66             29        0  26.6   \n",
       "2            8      183             64              0        0  23.3   \n",
       "3            1       89             66             23       94  28.1   \n",
       "4            0      137             40             35      168  43.1   \n",
       "\n",
       "   DiabetesPedigreeFunction  Age  Outcome  \n",
       "0                     0.627   50        1  \n",
       "1                     0.351   31        0  \n",
       "2                     0.672   32        1  \n",
       "3                     0.167   21        0  \n",
       "4                     2.288   33        1  "
      ]
     },
     "execution_count": 4,
     "metadata": {},
     "output_type": "execute_result"
    }
   ],
   "source": [
    "data_set.head()"
   ]
  },
  {
   "cell_type": "code",
   "execution_count": 5,
   "metadata": {
    "execution": {
     "iopub.execute_input": "2020-11-28T13:06:30.539373Z",
     "iopub.status.busy": "2020-11-28T13:06:30.538405Z",
     "iopub.status.idle": "2020-11-28T13:06:30.543137Z",
     "shell.execute_reply": "2020-11-28T13:06:30.543952Z"
    },
    "papermill": {
     "duration": 0.053174,
     "end_time": "2020-11-28T13:06:30.544127",
     "exception": false,
     "start_time": "2020-11-28T13:06:30.490953",
     "status": "completed"
    },
    "tags": []
   },
   "outputs": [
    {
     "name": "stdout",
     "output_type": "stream",
     "text": [
      "<class 'pandas.core.frame.DataFrame'>\n",
      "RangeIndex: 768 entries, 0 to 767\n",
      "Data columns (total 9 columns):\n",
      " #   Column                    Non-Null Count  Dtype  \n",
      "---  ------                    --------------  -----  \n",
      " 0   Pregnancies               768 non-null    int64  \n",
      " 1   Glucose                   768 non-null    int64  \n",
      " 2   BloodPressure             768 non-null    int64  \n",
      " 3   SkinThickness             768 non-null    int64  \n",
      " 4   Insulin                   768 non-null    int64  \n",
      " 5   BMI                       768 non-null    float64\n",
      " 6   DiabetesPedigreeFunction  768 non-null    float64\n",
      " 7   Age                       768 non-null    int64  \n",
      " 8   Outcome                   768 non-null    int64  \n",
      "dtypes: float64(2), int64(7)\n",
      "memory usage: 54.1 KB\n"
     ]
    }
   ],
   "source": [
    "data_set.info()"
   ]
  },
  {
   "cell_type": "code",
   "execution_count": 6,
   "metadata": {
    "execution": {
     "iopub.execute_input": "2020-11-28T13:06:30.616083Z",
     "iopub.status.busy": "2020-11-28T13:06:30.615158Z",
     "iopub.status.idle": "2020-11-28T13:06:30.619497Z",
     "shell.execute_reply": "2020-11-28T13:06:30.618957Z"
    },
    "papermill": {
     "duration": 0.041381,
     "end_time": "2020-11-28T13:06:30.619608",
     "exception": false,
     "start_time": "2020-11-28T13:06:30.578227",
     "status": "completed"
    },
    "tags": []
   },
   "outputs": [
    {
     "data": {
      "text/plain": [
       "(768, 9)"
      ]
     },
     "execution_count": 6,
     "metadata": {},
     "output_type": "execute_result"
    }
   ],
   "source": [
    "#rows x columns\n",
    "data_set.shape"
   ]
  },
  {
   "cell_type": "code",
   "execution_count": 7,
   "metadata": {
    "execution": {
     "iopub.execute_input": "2020-11-28T13:06:30.695693Z",
     "iopub.status.busy": "2020-11-28T13:06:30.695088Z",
     "iopub.status.idle": "2020-11-28T13:06:30.728495Z",
     "shell.execute_reply": "2020-11-28T13:06:30.728959Z"
    },
    "papermill": {
     "duration": 0.074297,
     "end_time": "2020-11-28T13:06:30.729130",
     "exception": false,
     "start_time": "2020-11-28T13:06:30.654833",
     "status": "completed"
    },
    "tags": []
   },
   "outputs": [
    {
     "data": {
      "text/html": [
       "<div>\n",
       "<style scoped>\n",
       "    .dataframe tbody tr th:only-of-type {\n",
       "        vertical-align: middle;\n",
       "    }\n",
       "\n",
       "    .dataframe tbody tr th {\n",
       "        vertical-align: top;\n",
       "    }\n",
       "\n",
       "    .dataframe thead th {\n",
       "        text-align: right;\n",
       "    }\n",
       "</style>\n",
       "<table border=\"1\" class=\"dataframe\">\n",
       "  <thead>\n",
       "    <tr style=\"text-align: right;\">\n",
       "      <th></th>\n",
       "      <th>Pregnancies</th>\n",
       "      <th>Glucose</th>\n",
       "      <th>BloodPressure</th>\n",
       "      <th>SkinThickness</th>\n",
       "      <th>Insulin</th>\n",
       "      <th>BMI</th>\n",
       "      <th>DiabetesPedigreeFunction</th>\n",
       "      <th>Age</th>\n",
       "      <th>Outcome</th>\n",
       "    </tr>\n",
       "  </thead>\n",
       "  <tbody>\n",
       "    <tr>\n",
       "      <th>count</th>\n",
       "      <td>768.000000</td>\n",
       "      <td>768.000000</td>\n",
       "      <td>768.000000</td>\n",
       "      <td>768.000000</td>\n",
       "      <td>768.000000</td>\n",
       "      <td>768.000000</td>\n",
       "      <td>768.000000</td>\n",
       "      <td>768.000000</td>\n",
       "      <td>768.000000</td>\n",
       "    </tr>\n",
       "    <tr>\n",
       "      <th>mean</th>\n",
       "      <td>3.845052</td>\n",
       "      <td>120.894531</td>\n",
       "      <td>69.105469</td>\n",
       "      <td>20.536458</td>\n",
       "      <td>79.799479</td>\n",
       "      <td>31.992578</td>\n",
       "      <td>0.471876</td>\n",
       "      <td>33.240885</td>\n",
       "      <td>0.348958</td>\n",
       "    </tr>\n",
       "    <tr>\n",
       "      <th>std</th>\n",
       "      <td>3.369578</td>\n",
       "      <td>31.972618</td>\n",
       "      <td>19.355807</td>\n",
       "      <td>15.952218</td>\n",
       "      <td>115.244002</td>\n",
       "      <td>7.884160</td>\n",
       "      <td>0.331329</td>\n",
       "      <td>11.760232</td>\n",
       "      <td>0.476951</td>\n",
       "    </tr>\n",
       "    <tr>\n",
       "      <th>min</th>\n",
       "      <td>0.000000</td>\n",
       "      <td>0.000000</td>\n",
       "      <td>0.000000</td>\n",
       "      <td>0.000000</td>\n",
       "      <td>0.000000</td>\n",
       "      <td>0.000000</td>\n",
       "      <td>0.078000</td>\n",
       "      <td>21.000000</td>\n",
       "      <td>0.000000</td>\n",
       "    </tr>\n",
       "    <tr>\n",
       "      <th>25%</th>\n",
       "      <td>1.000000</td>\n",
       "      <td>99.000000</td>\n",
       "      <td>62.000000</td>\n",
       "      <td>0.000000</td>\n",
       "      <td>0.000000</td>\n",
       "      <td>27.300000</td>\n",
       "      <td>0.243750</td>\n",
       "      <td>24.000000</td>\n",
       "      <td>0.000000</td>\n",
       "    </tr>\n",
       "    <tr>\n",
       "      <th>50%</th>\n",
       "      <td>3.000000</td>\n",
       "      <td>117.000000</td>\n",
       "      <td>72.000000</td>\n",
       "      <td>23.000000</td>\n",
       "      <td>30.500000</td>\n",
       "      <td>32.000000</td>\n",
       "      <td>0.372500</td>\n",
       "      <td>29.000000</td>\n",
       "      <td>0.000000</td>\n",
       "    </tr>\n",
       "    <tr>\n",
       "      <th>75%</th>\n",
       "      <td>6.000000</td>\n",
       "      <td>140.250000</td>\n",
       "      <td>80.000000</td>\n",
       "      <td>32.000000</td>\n",
       "      <td>127.250000</td>\n",
       "      <td>36.600000</td>\n",
       "      <td>0.626250</td>\n",
       "      <td>41.000000</td>\n",
       "      <td>1.000000</td>\n",
       "    </tr>\n",
       "    <tr>\n",
       "      <th>max</th>\n",
       "      <td>17.000000</td>\n",
       "      <td>199.000000</td>\n",
       "      <td>122.000000</td>\n",
       "      <td>99.000000</td>\n",
       "      <td>846.000000</td>\n",
       "      <td>67.100000</td>\n",
       "      <td>2.420000</td>\n",
       "      <td>81.000000</td>\n",
       "      <td>1.000000</td>\n",
       "    </tr>\n",
       "  </tbody>\n",
       "</table>\n",
       "</div>"
      ],
      "text/plain": [
       "       Pregnancies     Glucose  BloodPressure  SkinThickness     Insulin  \\\n",
       "count   768.000000  768.000000     768.000000     768.000000  768.000000   \n",
       "mean      3.845052  120.894531      69.105469      20.536458   79.799479   \n",
       "std       3.369578   31.972618      19.355807      15.952218  115.244002   \n",
       "min       0.000000    0.000000       0.000000       0.000000    0.000000   \n",
       "25%       1.000000   99.000000      62.000000       0.000000    0.000000   \n",
       "50%       3.000000  117.000000      72.000000      23.000000   30.500000   \n",
       "75%       6.000000  140.250000      80.000000      32.000000  127.250000   \n",
       "max      17.000000  199.000000     122.000000      99.000000  846.000000   \n",
       "\n",
       "              BMI  DiabetesPedigreeFunction         Age     Outcome  \n",
       "count  768.000000                768.000000  768.000000  768.000000  \n",
       "mean    31.992578                  0.471876   33.240885    0.348958  \n",
       "std      7.884160                  0.331329   11.760232    0.476951  \n",
       "min      0.000000                  0.078000   21.000000    0.000000  \n",
       "25%     27.300000                  0.243750   24.000000    0.000000  \n",
       "50%     32.000000                  0.372500   29.000000    0.000000  \n",
       "75%     36.600000                  0.626250   41.000000    1.000000  \n",
       "max     67.100000                  2.420000   81.000000    1.000000  "
      ]
     },
     "execution_count": 7,
     "metadata": {},
     "output_type": "execute_result"
    }
   ],
   "source": [
    "#statistics of the data\n",
    "data_set.describe()"
   ]
  },
  {
   "cell_type": "code",
   "execution_count": 8,
   "metadata": {
    "execution": {
     "iopub.execute_input": "2020-11-28T13:06:30.803295Z",
     "iopub.status.busy": "2020-11-28T13:06:30.802557Z",
     "iopub.status.idle": "2020-11-28T13:06:30.810403Z",
     "shell.execute_reply": "2020-11-28T13:06:30.809853Z"
    },
    "papermill": {
     "duration": 0.046463,
     "end_time": "2020-11-28T13:06:30.810498",
     "exception": false,
     "start_time": "2020-11-28T13:06:30.764035",
     "status": "completed"
    },
    "tags": []
   },
   "outputs": [
    {
     "data": {
      "text/plain": [
       "0"
      ]
     },
     "execution_count": 8,
     "metadata": {},
     "output_type": "execute_result"
    }
   ],
   "source": [
    "#check duplicates\n",
    "data_set.duplicated().sum()"
   ]
  },
  {
   "cell_type": "code",
   "execution_count": 9,
   "metadata": {
    "execution": {
     "iopub.execute_input": "2020-11-28T13:06:30.889385Z",
     "iopub.status.busy": "2020-11-28T13:06:30.888417Z",
     "iopub.status.idle": "2020-11-28T13:06:30.892307Z",
     "shell.execute_reply": "2020-11-28T13:06:30.892806Z"
    },
    "papermill": {
     "duration": 0.046859,
     "end_time": "2020-11-28T13:06:30.892934",
     "exception": false,
     "start_time": "2020-11-28T13:06:30.846075",
     "status": "completed"
    },
    "tags": []
   },
   "outputs": [
    {
     "data": {
      "text/plain": [
       "Pregnancies                 0\n",
       "Glucose                     0\n",
       "BloodPressure               0\n",
       "SkinThickness               0\n",
       "Insulin                     0\n",
       "BMI                         0\n",
       "DiabetesPedigreeFunction    0\n",
       "Age                         0\n",
       "Outcome                     0\n",
       "dtype: int64"
      ]
     },
     "execution_count": 9,
     "metadata": {},
     "output_type": "execute_result"
    }
   ],
   "source": [
    "#check null values\n",
    "data_set.isnull().sum()"
   ]
  },
  {
   "cell_type": "code",
   "execution_count": 10,
   "metadata": {
    "execution": {
     "iopub.execute_input": "2020-11-28T13:06:30.967527Z",
     "iopub.status.busy": "2020-11-28T13:06:30.966721Z",
     "iopub.status.idle": "2020-11-28T13:06:32.936538Z",
     "shell.execute_reply": "2020-11-28T13:06:32.937483Z"
    },
    "papermill": {
     "duration": 2.009003,
     "end_time": "2020-11-28T13:06:32.937680",
     "exception": false,
     "start_time": "2020-11-28T13:06:30.928677",
     "status": "completed"
    },
    "tags": []
   },
   "outputs": [
    {
     "data": {
      "text/plain": [
       "array([[<matplotlib.axes._subplots.AxesSubplot object at 0x7fa78d7f7fd0>,\n",
       "        <matplotlib.axes._subplots.AxesSubplot object at 0x7fa782e71f50>,\n",
       "        <matplotlib.axes._subplots.AxesSubplot object at 0x7fa782e36610>],\n",
       "       [<matplotlib.axes._subplots.AxesSubplot object at 0x7fa782e6bc90>,\n",
       "        <matplotlib.axes._subplots.AxesSubplot object at 0x7fa782e2d350>,\n",
       "        <matplotlib.axes._subplots.AxesSubplot object at 0x7fa782de29d0>],\n",
       "       [<matplotlib.axes._subplots.AxesSubplot object at 0x7fa782d8eb50>,\n",
       "        <matplotlib.axes._subplots.AxesSubplot object at 0x7fa782d5b6d0>,\n",
       "        <matplotlib.axes._subplots.AxesSubplot object at 0x7fa782d5b710>]],\n",
       "      dtype=object)"
      ]
     },
     "execution_count": 10,
     "metadata": {},
     "output_type": "execute_result"
    },
    {
     "data": {
      "image/png": "[encoded data removed]",
      "text/plain": [
       "<Figure size 1440x1440 with 9 Axes>"
      ]
     },
     "metadata": {
      "needs_background": "light"
     },
     "output_type": "display_data"
    }
   ],
   "source": [
    "#data distribution? \n",
    "data_set.hist(figsize = (20,20))"
   ]
  },
  {
   "cell_type": "markdown",
   "metadata": {
    "papermill": {
     "duration": 0.061834,
     "end_time": "2020-11-28T13:06:33.064914",
     "exception": false,
     "start_time": "2020-11-28T13:06:33.003080",
     "status": "completed"
    },
    "tags": []
   },
   "source": [
    "# Data Cleaning"
   ]
  },
  {
   "cell_type": "code",
   "execution_count": 11,
   "metadata": {
    "execution": {
     "iopub.execute_input": "2020-11-28T13:06:33.209143Z",
     "iopub.status.busy": "2020-11-28T13:06:33.207700Z",
     "iopub.status.idle": "2020-11-28T13:06:33.213865Z",
     "shell.execute_reply": "2020-11-28T13:06:33.214525Z"
    },
    "papermill": {
     "duration": 0.080915,
     "end_time": "2020-11-28T13:06:33.214686",
     "exception": false,
     "start_time": "2020-11-28T13:06:33.133771",
     "status": "completed"
    },
    "tags": []
   },
   "outputs": [
    {
     "name": "stdout",
     "output_type": "stream",
     "text": [
      "32.0\n"
     ]
    }
   ],
   "source": [
    "# Calculate the median value for BMI\n",
    "median_BMI = data_set['BMI'].median()\n",
    "print(median_BMI)\n",
    "# Substitute it in the BMI column of the\n",
    "# dataset where values are 0\n",
    "data_set['BMI'] = data_set['BMI'].replace(\n",
    "    to_replace=0, value=median_BMI)\n"
   ]
  },
  {
   "cell_type": "code",
   "execution_count": 12,
   "metadata": {
    "execution": {
     "iopub.execute_input": "2020-11-28T13:06:33.330447Z",
     "iopub.status.busy": "2020-11-28T13:06:33.327737Z",
     "iopub.status.idle": "2020-11-28T13:06:33.334821Z",
     "shell.execute_reply": "2020-11-28T13:06:33.333423Z"
    },
    "papermill": {
     "duration": 0.070438,
     "end_time": "2020-11-28T13:06:33.335047",
     "exception": false,
     "start_time": "2020-11-28T13:06:33.264609",
     "status": "completed"
    },
    "tags": []
   },
   "outputs": [
    {
     "name": "stdout",
     "output_type": "stream",
     "text": [
      "72.0\n"
     ]
    }
   ],
   "source": [
    "# Calculate the median value for BloodPressure\n",
    "median_BD = data_set['BloodPressure'].median()\n",
    "print(median_BD)\n",
    "data_set['BloodPressure'] = data_set['BloodPressure'].replace(\n",
    "    to_replace=0, value=median_BD)\n"
   ]
  },
  {
   "cell_type": "code",
   "execution_count": 13,
   "metadata": {
    "execution": {
     "iopub.execute_input": "2020-11-28T13:06:33.444859Z",
     "iopub.status.busy": "2020-11-28T13:06:33.442874Z",
     "iopub.status.idle": "2020-11-28T13:06:33.447694Z",
     "shell.execute_reply": "2020-11-28T13:06:33.447123Z"
    },
    "papermill": {
     "duration": 0.057105,
     "end_time": "2020-11-28T13:06:33.447798",
     "exception": false,
     "start_time": "2020-11-28T13:06:33.390693",
     "status": "completed"
    },
    "tags": []
   },
   "outputs": [
    {
     "name": "stdout",
     "output_type": "stream",
     "text": [
      "117.0\n"
     ]
    }
   ],
   "source": [
    "# Calculate the median value for Glucose\n",
    "median_Glucose = data_set['Glucose'].median()\n",
    "print(median_Glucose)\n",
    "data_set['Glucose'] = data_set['Glucose'].replace(\n",
    "    to_replace=0, value=median_Glucose)\n"
   ]
  },
  {
   "cell_type": "code",
   "execution_count": 14,
   "metadata": {
    "execution": {
     "iopub.execute_input": "2020-11-28T13:06:33.556079Z",
     "iopub.status.busy": "2020-11-28T13:06:33.555204Z",
     "iopub.status.idle": "2020-11-28T13:06:33.560101Z",
     "shell.execute_reply": "2020-11-28T13:06:33.560782Z"
    },
    "papermill": {
     "duration": 0.06557,
     "end_time": "2020-11-28T13:06:33.560931",
     "exception": false,
     "start_time": "2020-11-28T13:06:33.495361",
     "status": "completed"
    },
    "tags": []
   },
   "outputs": [
    {
     "name": "stdout",
     "output_type": "stream",
     "text": [
      "23.0\n"
     ]
    }
   ],
   "source": [
    "# Calculate the median value for SkinThickness\n",
    "median_STH = data_set['SkinThickness'].median()\n",
    "print(median_STH)\n",
    "data_set['SkinThickness'] = data_set['SkinThickness'].replace(\n",
    "    to_replace=0, value=median_STH)\n"
   ]
  },
  {
   "cell_type": "code",
   "execution_count": 15,
   "metadata": {
    "execution": {
     "iopub.execute_input": "2020-11-28T13:06:33.680414Z",
     "iopub.status.busy": "2020-11-28T13:06:33.679578Z",
     "iopub.status.idle": "2020-11-28T13:06:33.684388Z",
     "shell.execute_reply": "2020-11-28T13:06:33.685017Z"
    },
    "papermill": {
     "duration": 0.068603,
     "end_time": "2020-11-28T13:06:33.685152",
     "exception": false,
     "start_time": "2020-11-28T13:06:33.616549",
     "status": "completed"
    },
    "tags": []
   },
   "outputs": [
    {
     "name": "stdout",
     "output_type": "stream",
     "text": [
      "30.5\n"
     ]
    }
   ],
   "source": [
    "# Calculate the median value for Insulin\n",
    "median_Insulin = data_set['Insulin'].median()\n",
    "print(median_Insulin)\n",
    "data_set['Insulin'] = data_set['Insulin'].replace(\n",
    "    to_replace=0, value=median_Insulin)\n"
   ]
  },
  {
   "cell_type": "code",
   "execution_count": 16,
   "metadata": {
    "execution": {
     "iopub.execute_input": "2020-11-28T13:06:33.813330Z",
     "iopub.status.busy": "2020-11-28T13:06:33.812237Z",
     "iopub.status.idle": "2020-11-28T13:06:33.834459Z",
     "shell.execute_reply": "2020-11-28T13:06:33.834948Z"
    },
    "papermill": {
     "duration": 0.094551,
     "end_time": "2020-11-28T13:06:33.835090",
     "exception": false,
     "start_time": "2020-11-28T13:06:33.740539",
     "status": "completed"
    },
    "tags": []
   },
   "outputs": [
    {
     "data": {
      "text/plain": [
       "111"
      ]
     },
     "execution_count": 16,
     "metadata": {},
     "output_type": "execute_result"
    }
   ],
   "source": [
    "#how many women with 0 Pregnancies?\n",
    "(data_set[\"Pregnancies\"]==0).sum()"
   ]
  },
  {
   "cell_type": "code",
   "execution_count": 17,
   "metadata": {
    "execution": {
     "iopub.execute_input": "2020-11-28T13:06:33.923925Z",
     "iopub.status.busy": "2020-11-28T13:06:33.923220Z",
     "iopub.status.idle": "2020-11-28T13:06:33.959375Z",
     "shell.execute_reply": "2020-11-28T13:06:33.959887Z"
    },
    "papermill": {
     "duration": 0.082356,
     "end_time": "2020-11-28T13:06:33.960039",
     "exception": false,
     "start_time": "2020-11-28T13:06:33.877683",
     "status": "completed"
    },
    "tags": []
   },
   "outputs": [
    {
     "data": {
      "text/html": [
       "<div>\n",
       "<style scoped>\n",
       "    .dataframe tbody tr th:only-of-type {\n",
       "        vertical-align: middle;\n",
       "    }\n",
       "\n",
       "    .dataframe tbody tr th {\n",
       "        vertical-align: top;\n",
       "    }\n",
       "\n",
       "    .dataframe thead th {\n",
       "        text-align: right;\n",
       "    }\n",
       "</style>\n",
       "<table border=\"1\" class=\"dataframe\">\n",
       "  <thead>\n",
       "    <tr style=\"text-align: right;\">\n",
       "      <th></th>\n",
       "      <th>Pregnancies</th>\n",
       "      <th>Glucose</th>\n",
       "      <th>BloodPressure</th>\n",
       "      <th>SkinThickness</th>\n",
       "      <th>Insulin</th>\n",
       "      <th>BMI</th>\n",
       "      <th>DiabetesPedigreeFunction</th>\n",
       "      <th>Age</th>\n",
       "      <th>Outcome</th>\n",
       "    </tr>\n",
       "  </thead>\n",
       "  <tbody>\n",
       "    <tr>\n",
       "      <th>count</th>\n",
       "      <td>768.000000</td>\n",
       "      <td>768.000000</td>\n",
       "      <td>768.000000</td>\n",
       "      <td>768.000000</td>\n",
       "      <td>768.000000</td>\n",
       "      <td>768.000000</td>\n",
       "      <td>768.000000</td>\n",
       "      <td>768.000000</td>\n",
       "      <td>768.000000</td>\n",
       "    </tr>\n",
       "    <tr>\n",
       "      <th>mean</th>\n",
       "      <td>3.845052</td>\n",
       "      <td>121.656250</td>\n",
       "      <td>72.386719</td>\n",
       "      <td>27.334635</td>\n",
       "      <td>94.652344</td>\n",
       "      <td>32.450911</td>\n",
       "      <td>0.471876</td>\n",
       "      <td>33.240885</td>\n",
       "      <td>0.348958</td>\n",
       "    </tr>\n",
       "    <tr>\n",
       "      <th>std</th>\n",
       "      <td>3.369578</td>\n",
       "      <td>30.438286</td>\n",
       "      <td>12.096642</td>\n",
       "      <td>9.229014</td>\n",
       "      <td>105.547598</td>\n",
       "      <td>6.875366</td>\n",
       "      <td>0.331329</td>\n",
       "      <td>11.760232</td>\n",
       "      <td>0.476951</td>\n",
       "    </tr>\n",
       "    <tr>\n",
       "      <th>min</th>\n",
       "      <td>0.000000</td>\n",
       "      <td>44.000000</td>\n",
       "      <td>24.000000</td>\n",
       "      <td>7.000000</td>\n",
       "      <td>14.000000</td>\n",
       "      <td>18.200000</td>\n",
       "      <td>0.078000</td>\n",
       "      <td>21.000000</td>\n",
       "      <td>0.000000</td>\n",
       "    </tr>\n",
       "    <tr>\n",
       "      <th>25%</th>\n",
       "      <td>1.000000</td>\n",
       "      <td>99.750000</td>\n",
       "      <td>64.000000</td>\n",
       "      <td>23.000000</td>\n",
       "      <td>30.500000</td>\n",
       "      <td>27.500000</td>\n",
       "      <td>0.243750</td>\n",
       "      <td>24.000000</td>\n",
       "      <td>0.000000</td>\n",
       "    </tr>\n",
       "    <tr>\n",
       "      <th>50%</th>\n",
       "      <td>3.000000</td>\n",
       "      <td>117.000000</td>\n",
       "      <td>72.000000</td>\n",
       "      <td>23.000000</td>\n",
       "      <td>31.250000</td>\n",
       "      <td>32.000000</td>\n",
       "      <td>0.372500</td>\n",
       "      <td>29.000000</td>\n",
       "      <td>0.000000</td>\n",
       "    </tr>\n",
       "    <tr>\n",
       "      <th>75%</th>\n",
       "      <td>6.000000</td>\n",
       "      <td>140.250000</td>\n",
       "      <td>80.000000</td>\n",
       "      <td>32.000000</td>\n",
       "      <td>127.250000</td>\n",
       "      <td>36.600000</td>\n",
       "      <td>0.626250</td>\n",
       "      <td>41.000000</td>\n",
       "      <td>1.000000</td>\n",
       "    </tr>\n",
       "    <tr>\n",
       "      <th>max</th>\n",
       "      <td>17.000000</td>\n",
       "      <td>199.000000</td>\n",
       "      <td>122.000000</td>\n",
       "      <td>99.000000</td>\n",
       "      <td>846.000000</td>\n",
       "      <td>67.100000</td>\n",
       "      <td>2.420000</td>\n",
       "      <td>81.000000</td>\n",
       "      <td>1.000000</td>\n",
       "    </tr>\n",
       "  </tbody>\n",
       "</table>\n",
       "</div>"
      ],
      "text/plain": [
       "       Pregnancies     Glucose  BloodPressure  SkinThickness     Insulin  \\\n",
       "count   768.000000  768.000000     768.000000     768.000000  768.000000   \n",
       "mean      3.845052  121.656250      72.386719      27.334635   94.652344   \n",
       "std       3.369578   30.438286      12.096642       9.229014  105.547598   \n",
       "min       0.000000   44.000000      24.000000       7.000000   14.000000   \n",
       "25%       1.000000   99.750000      64.000000      23.000000   30.500000   \n",
       "50%       3.000000  117.000000      72.000000      23.000000   31.250000   \n",
       "75%       6.000000  140.250000      80.000000      32.000000  127.250000   \n",
       "max      17.000000  199.000000     122.000000      99.000000  846.000000   \n",
       "\n",
       "              BMI  DiabetesPedigreeFunction         Age     Outcome  \n",
       "count  768.000000                768.000000  768.000000  768.000000  \n",
       "mean    32.450911                  0.471876   33.240885    0.348958  \n",
       "std      6.875366                  0.331329   11.760232    0.476951  \n",
       "min     18.200000                  0.078000   21.000000    0.000000  \n",
       "25%     27.500000                  0.243750   24.000000    0.000000  \n",
       "50%     32.000000                  0.372500   29.000000    0.000000  \n",
       "75%     36.600000                  0.626250   41.000000    1.000000  \n",
       "max     67.100000                  2.420000   81.000000    1.000000  "
      ]
     },
     "execution_count": 17,
     "metadata": {},
     "output_type": "execute_result"
    }
   ],
   "source": [
    "data_set.describe()"
   ]
  },
  {
   "cell_type": "markdown",
   "metadata": {
    "papermill": {
     "duration": 0.042018,
     "end_time": "2020-11-28T13:06:34.044358",
     "exception": false,
     "start_time": "2020-11-28T13:06:34.002340",
     "status": "completed"
    },
    "tags": []
   },
   "source": [
    "# data visualization"
   ]
  },
  {
   "cell_type": "code",
   "execution_count": 18,
   "metadata": {
    "execution": {
     "iopub.execute_input": "2020-11-28T13:06:34.140539Z",
     "iopub.status.busy": "2020-11-28T13:06:34.138997Z",
     "iopub.status.idle": "2020-11-28T13:06:35.761694Z",
     "shell.execute_reply": "2020-11-28T13:06:35.762375Z"
    },
    "papermill": {
     "duration": 1.676174,
     "end_time": "2020-11-28T13:06:35.762685",
     "exception": false,
     "start_time": "2020-11-28T13:06:34.086511",
     "status": "completed"
    },
    "tags": []
   },
   "outputs": [
    {
     "data": {
      "text/plain": [
       "array([[<matplotlib.axes._subplots.AxesSubplot object at 0x7fa782a2d250>,\n",
       "        <matplotlib.axes._subplots.AxesSubplot object at 0x7fa782a490d0>,\n",
       "        <matplotlib.axes._subplots.AxesSubplot object at 0x7fa7829fc750>],\n",
       "       [<matplotlib.axes._subplots.AxesSubplot object at 0x7fa7829b1dd0>,\n",
       "        <matplotlib.axes._subplots.AxesSubplot object at 0x7fa782974490>,\n",
       "        <matplotlib.axes._subplots.AxesSubplot object at 0x7fa782927b10>],\n",
       "       [<matplotlib.axes._subplots.AxesSubplot object at 0x7fa7828eb250>,\n",
       "        <matplotlib.axes._subplots.AxesSubplot object at 0x7fa782921810>,\n",
       "        <matplotlib.axes._subplots.AxesSubplot object at 0x7fa782921850>]],\n",
       "      dtype=object)"
      ]
     },
     "execution_count": 18,
     "metadata": {},
     "output_type": "execute_result"
    },
    {
     "data": {
      "image/png": "[encoded data removed]",
      "text/plain": [
       "<Figure size 1440x1440 with 9 Axes>"
      ]
     },
     "metadata": {
      "needs_background": "light"
     },
     "output_type": "display_data"
    }
   ],
   "source": [
    "data_set.hist(figsize = (20,20))"
   ]
  },
  {
   "cell_type": "code",
   "execution_count": 19,
   "metadata": {
    "execution": {
     "iopub.execute_input": "2020-11-28T13:06:35.873264Z",
     "iopub.status.busy": "2020-11-28T13:06:35.872391Z",
     "iopub.status.idle": "2020-11-28T13:06:35.875803Z",
     "shell.execute_reply": "2020-11-28T13:06:35.876469Z"
    },
    "papermill": {
     "duration": 0.06372,
     "end_time": "2020-11-28T13:06:35.876604",
     "exception": false,
     "start_time": "2020-11-28T13:06:35.812884",
     "status": "completed"
    },
    "tags": []
   },
   "outputs": [
    {
     "data": {
      "text/plain": [
       "0    500\n",
       "1    268\n",
       "Name: Outcome, dtype: int64"
      ]
     },
     "execution_count": 19,
     "metadata": {},
     "output_type": "execute_result"
    }
   ],
   "source": [
    "OUTCOMES=pd.Series(data_set['Outcome'].value_counts(ascending = False))\n",
    "OUTCOMES"
   ]
  },
  {
   "cell_type": "code",
   "execution_count": 20,
   "metadata": {
    "execution": {
     "iopub.execute_input": "2020-11-28T13:06:35.976788Z",
     "iopub.status.busy": "2020-11-28T13:06:35.975753Z",
     "iopub.status.idle": "2020-11-28T13:06:36.029466Z",
     "shell.execute_reply": "2020-11-28T13:06:36.028945Z"
    },
    "papermill": {
     "duration": 0.10693,
     "end_time": "2020-11-28T13:06:36.029577",
     "exception": false,
     "start_time": "2020-11-28T13:06:35.922647",
     "status": "completed"
    },
    "tags": []
   },
   "outputs": [
    {
     "data": {
      "text/plain": [
       "<matplotlib.axes._subplots.AxesSubplot at 0x7fa782934f90>"
      ]
     },
     "execution_count": 20,
     "metadata": {},
     "output_type": "execute_result"
    },
    {
     "data": {
      "image/png": "[encoded data removed]",
      "text/plain": [
       "<Figure size 432x288 with 1 Axes>"
      ]
     },
     "metadata": {},
     "output_type": "display_data"
    }
   ],
   "source": [
    "OUTCOMES.plot.pie()"
   ]
  },
  {
   "cell_type": "code",
   "execution_count": 21,
   "metadata": {
    "execution": {
     "iopub.execute_input": "2020-11-28T13:06:36.128618Z",
     "iopub.status.busy": "2020-11-28T13:06:36.127673Z",
     "iopub.status.idle": "2020-11-28T13:06:36.143548Z",
     "shell.execute_reply": "2020-11-28T13:06:36.144133Z"
    },
    "papermill": {
     "duration": 0.069977,
     "end_time": "2020-11-28T13:06:36.144288",
     "exception": false,
     "start_time": "2020-11-28T13:06:36.074311",
     "status": "completed"
    },
    "tags": []
   },
   "outputs": [
    {
     "data": {
      "text/html": [
       "<div>\n",
       "<style scoped>\n",
       "    .dataframe tbody tr th:only-of-type {\n",
       "        vertical-align: middle;\n",
       "    }\n",
       "\n",
       "    .dataframe tbody tr th {\n",
       "        vertical-align: top;\n",
       "    }\n",
       "\n",
       "    .dataframe thead th {\n",
       "        text-align: right;\n",
       "    }\n",
       "</style>\n",
       "<table border=\"1\" class=\"dataframe\">\n",
       "  <thead>\n",
       "    <tr style=\"text-align: right;\">\n",
       "      <th></th>\n",
       "      <th>Pregnancies</th>\n",
       "      <th>Glucose</th>\n",
       "      <th>BloodPressure</th>\n",
       "      <th>SkinThickness</th>\n",
       "      <th>Insulin</th>\n",
       "      <th>BMI</th>\n",
       "      <th>DiabetesPedigreeFunction</th>\n",
       "      <th>Age</th>\n",
       "      <th>Outcome</th>\n",
       "    </tr>\n",
       "  </thead>\n",
       "  <tbody>\n",
       "    <tr>\n",
       "      <th>Pregnancies</th>\n",
       "      <td>1.000000</td>\n",
       "      <td>0.128213</td>\n",
       "      <td>0.208615</td>\n",
       "      <td>0.032568</td>\n",
       "      <td>-0.055697</td>\n",
       "      <td>0.021546</td>\n",
       "      <td>-0.033523</td>\n",
       "      <td>0.544341</td>\n",
       "      <td>0.221898</td>\n",
       "    </tr>\n",
       "    <tr>\n",
       "      <th>Glucose</th>\n",
       "      <td>0.128213</td>\n",
       "      <td>1.000000</td>\n",
       "      <td>0.218937</td>\n",
       "      <td>0.172143</td>\n",
       "      <td>0.357573</td>\n",
       "      <td>0.231400</td>\n",
       "      <td>0.137327</td>\n",
       "      <td>0.266909</td>\n",
       "      <td>0.492782</td>\n",
       "    </tr>\n",
       "    <tr>\n",
       "      <th>BloodPressure</th>\n",
       "      <td>0.208615</td>\n",
       "      <td>0.218937</td>\n",
       "      <td>1.000000</td>\n",
       "      <td>0.147809</td>\n",
       "      <td>-0.028721</td>\n",
       "      <td>0.281132</td>\n",
       "      <td>-0.002378</td>\n",
       "      <td>0.324915</td>\n",
       "      <td>0.165723</td>\n",
       "    </tr>\n",
       "    <tr>\n",
       "      <th>SkinThickness</th>\n",
       "      <td>0.032568</td>\n",
       "      <td>0.172143</td>\n",
       "      <td>0.147809</td>\n",
       "      <td>1.000000</td>\n",
       "      <td>0.238188</td>\n",
       "      <td>0.546951</td>\n",
       "      <td>0.142977</td>\n",
       "      <td>0.054514</td>\n",
       "      <td>0.189065</td>\n",
       "    </tr>\n",
       "    <tr>\n",
       "      <th>Insulin</th>\n",
       "      <td>-0.055697</td>\n",
       "      <td>0.357573</td>\n",
       "      <td>-0.028721</td>\n",
       "      <td>0.238188</td>\n",
       "      <td>1.000000</td>\n",
       "      <td>0.189022</td>\n",
       "      <td>0.178029</td>\n",
       "      <td>-0.015413</td>\n",
       "      <td>0.148457</td>\n",
       "    </tr>\n",
       "    <tr>\n",
       "      <th>BMI</th>\n",
       "      <td>0.021546</td>\n",
       "      <td>0.231400</td>\n",
       "      <td>0.281132</td>\n",
       "      <td>0.546951</td>\n",
       "      <td>0.189022</td>\n",
       "      <td>1.000000</td>\n",
       "      <td>0.153506</td>\n",
       "      <td>0.025744</td>\n",
       "      <td>0.312249</td>\n",
       "    </tr>\n",
       "    <tr>\n",
       "      <th>DiabetesPedigreeFunction</th>\n",
       "      <td>-0.033523</td>\n",
       "      <td>0.137327</td>\n",
       "      <td>-0.002378</td>\n",
       "      <td>0.142977</td>\n",
       "      <td>0.178029</td>\n",
       "      <td>0.153506</td>\n",
       "      <td>1.000000</td>\n",
       "      <td>0.033561</td>\n",
       "      <td>0.173844</td>\n",
       "    </tr>\n",
       "    <tr>\n",
       "      <th>Age</th>\n",
       "      <td>0.544341</td>\n",
       "      <td>0.266909</td>\n",
       "      <td>0.324915</td>\n",
       "      <td>0.054514</td>\n",
       "      <td>-0.015413</td>\n",
       "      <td>0.025744</td>\n",
       "      <td>0.033561</td>\n",
       "      <td>1.000000</td>\n",
       "      <td>0.238356</td>\n",
       "    </tr>\n",
       "    <tr>\n",
       "      <th>Outcome</th>\n",
       "      <td>0.221898</td>\n",
       "      <td>0.492782</td>\n",
       "      <td>0.165723</td>\n",
       "      <td>0.189065</td>\n",
       "      <td>0.148457</td>\n",
       "      <td>0.312249</td>\n",
       "      <td>0.173844</td>\n",
       "      <td>0.238356</td>\n",
       "      <td>1.000000</td>\n",
       "    </tr>\n",
       "  </tbody>\n",
       "</table>\n",
       "</div>"
      ],
      "text/plain": [
       "                          Pregnancies   Glucose  BloodPressure  SkinThickness  \\\n",
       "Pregnancies                  1.000000  0.128213       0.208615       0.032568   \n",
       "Glucose                      0.128213  1.000000       0.218937       0.172143   \n",
       "BloodPressure                0.208615  0.218937       1.000000       0.147809   \n",
       "SkinThickness                0.032568  0.172143       0.147809       1.000000   \n",
       "Insulin                     -0.055697  0.357573      -0.028721       0.238188   \n",
       "BMI                          0.021546  0.231400       0.281132       0.546951   \n",
       "DiabetesPedigreeFunction    -0.033523  0.137327      -0.002378       0.142977   \n",
       "Age                          0.544341  0.266909       0.324915       0.054514   \n",
       "Outcome                      0.221898  0.492782       0.165723       0.189065   \n",
       "\n",
       "                           Insulin       BMI  DiabetesPedigreeFunction  \\\n",
       "Pregnancies              -0.055697  0.021546                 -0.033523   \n",
       "Glucose                   0.357573  0.231400                  0.137327   \n",
       "BloodPressure            -0.028721  0.281132                 -0.002378   \n",
       "SkinThickness             0.238188  0.546951                  0.142977   \n",
       "Insulin                   1.000000  0.189022                  0.178029   \n",
       "BMI                       0.189022  1.000000                  0.153506   \n",
       "DiabetesPedigreeFunction  0.178029  0.153506                  1.000000   \n",
       "Age                      -0.015413  0.025744                  0.033561   \n",
       "Outcome                   0.148457  0.312249                  0.173844   \n",
       "\n",
       "                               Age   Outcome  \n",
       "Pregnancies               0.544341  0.221898  \n",
       "Glucose                   0.266909  0.492782  \n",
       "BloodPressure             0.324915  0.165723  \n",
       "SkinThickness             0.054514  0.189065  \n",
       "Insulin                  -0.015413  0.148457  \n",
       "BMI                       0.025744  0.312249  \n",
       "DiabetesPedigreeFunction  0.033561  0.173844  \n",
       "Age                       1.000000  0.238356  \n",
       "Outcome                   0.238356  1.000000  "
      ]
     },
     "execution_count": 21,
     "metadata": {},
     "output_type": "execute_result"
    }
   ],
   "source": [
    "corr = data_set.corr()\n",
    "corr"
   ]
  },
  {
   "cell_type": "code",
   "execution_count": 22,
   "metadata": {
    "execution": {
     "iopub.execute_input": "2020-11-28T13:06:36.250684Z",
     "iopub.status.busy": "2020-11-28T13:06:36.249673Z",
     "iopub.status.idle": "2020-11-28T13:06:36.812239Z",
     "shell.execute_reply": "2020-11-28T13:06:36.812797Z"
    },
    "papermill": {
     "duration": 0.621305,
     "end_time": "2020-11-28T13:06:36.812943",
     "exception": false,
     "start_time": "2020-11-28T13:06:36.191638",
     "status": "completed"
    },
    "tags": []
   },
   "outputs": [
    {
     "data": {
      "image/png": "[encoded data removed]",
      "text/plain": [
       "<Figure size 864x720 with 2 Axes>"
      ]
     },
     "metadata": {
      "needs_background": "light"
     },
     "output_type": "display_data"
    }
   ],
   "source": [
    "plt.figure(figsize=(12,10))\n",
    "p=sns.heatmap(corr, annot=True)\n"
   ]
  },
  {
   "cell_type": "markdown",
   "metadata": {
    "papermill": {
     "duration": 0.047313,
     "end_time": "2020-11-28T13:06:36.913040",
     "exception": false,
     "start_time": "2020-11-28T13:06:36.865727",
     "status": "completed"
    },
    "tags": []
   },
   "source": [
    "# Splitting Data & Feature Scaling"
   ]
  },
  {
   "cell_type": "code",
   "execution_count": 23,
   "metadata": {
    "execution": {
     "iopub.execute_input": "2020-11-28T13:06:37.022274Z",
     "iopub.status.busy": "2020-11-28T13:06:37.021254Z",
     "iopub.status.idle": "2020-11-28T13:06:37.024134Z",
     "shell.execute_reply": "2020-11-28T13:06:37.024749Z"
    },
    "papermill": {
     "duration": 0.061321,
     "end_time": "2020-11-28T13:06:37.024883",
     "exception": false,
     "start_time": "2020-11-28T13:06:36.963562",
     "status": "completed"
    },
    "tags": []
   },
   "outputs": [],
   "source": [
    "#x-->input(features) \n",
    "x=data_set.iloc[:,:-1].values\n",
    "#y-->output(has diab or not)\n",
    "y=data_set.iloc[:,-1].values"
   ]
  },
  {
   "cell_type": "code",
   "execution_count": 24,
   "metadata": {
    "execution": {
     "iopub.execute_input": "2020-11-28T13:06:37.131304Z",
     "iopub.status.busy": "2020-11-28T13:06:37.130576Z",
     "iopub.status.idle": "2020-11-28T13:06:37.133862Z",
     "shell.execute_reply": "2020-11-28T13:06:37.134445Z"
    },
    "papermill": {
     "duration": 0.059105,
     "end_time": "2020-11-28T13:06:37.134575",
     "exception": false,
     "start_time": "2020-11-28T13:06:37.075470",
     "status": "completed"
    },
    "tags": []
   },
   "outputs": [],
   "source": [
    "# Split the training dataset in 2/3 / 1/3\n",
    "x_train,x_test,y_train,y_test=train_test_split(x,y,test_size=1/3,random_state=42)"
   ]
  },
  {
   "cell_type": "code",
   "execution_count": 25,
   "metadata": {
    "execution": {
     "iopub.execute_input": "2020-11-28T13:06:37.238510Z",
     "iopub.status.busy": "2020-11-28T13:06:37.237556Z",
     "iopub.status.idle": "2020-11-28T13:06:37.241800Z",
     "shell.execute_reply": "2020-11-28T13:06:37.241097Z"
    },
    "papermill": {
     "duration": 0.058247,
     "end_time": "2020-11-28T13:06:37.241917",
     "exception": false,
     "start_time": "2020-11-28T13:06:37.183670",
     "status": "completed"
    },
    "tags": []
   },
   "outputs": [],
   "source": [
    "# Apply a scaler\n",
    "scaler = Scaler()\n",
    "scaler.fit(x_train)\n",
    "x_train = scaler.transform(x_train)\n",
    "x_test = scaler.transform(x_test)"
   ]
  },
  {
   "cell_type": "markdown",
   "metadata": {
    "papermill": {
     "duration": 0.047113,
     "end_time": "2020-11-28T13:06:37.337059",
     "exception": false,
     "start_time": "2020-11-28T13:06:37.289946",
     "status": "completed"
    },
    "tags": []
   },
   "source": [
    "# train a KNN model"
   ]
  },
  {
   "cell_type": "code",
   "execution_count": 26,
   "metadata": {
    "execution": {
     "iopub.execute_input": "2020-11-28T13:06:37.438685Z",
     "iopub.status.busy": "2020-11-28T13:06:37.438017Z",
     "iopub.status.idle": "2020-11-28T13:06:37.446413Z",
     "shell.execute_reply": "2020-11-28T13:06:37.447079Z"
    },
    "papermill": {
     "duration": 0.062543,
     "end_time": "2020-11-28T13:06:37.447234",
     "exception": false,
     "start_time": "2020-11-28T13:06:37.384691",
     "status": "completed"
    },
    "tags": []
   },
   "outputs": [
    {
     "data": {
      "text/plain": [
       "KNeighborsClassifier(n_neighbors=14)"
      ]
     },
     "execution_count": 26,
     "metadata": {},
     "output_type": "execute_result"
    }
   ],
   "source": [
    "KNN1=KNeighborsClassifier(n_neighbors=14)\n",
    "KNN1.fit(x_train,y_train)"
   ]
  },
  {
   "cell_type": "code",
   "execution_count": 27,
   "metadata": {
    "execution": {
     "iopub.execute_input": "2020-11-28T13:06:37.549445Z",
     "iopub.status.busy": "2020-11-28T13:06:37.548542Z",
     "iopub.status.idle": "2020-11-28T13:06:37.564779Z",
     "shell.execute_reply": "2020-11-28T13:06:37.564317Z"
    },
    "papermill": {
     "duration": 0.068843,
     "end_time": "2020-11-28T13:06:37.564892",
     "exception": false,
     "start_time": "2020-11-28T13:06:37.496049",
     "status": "completed"
    },
    "tags": []
   },
   "outputs": [],
   "source": [
    "#predict x_test\n",
    "y_pred_KNN_1=KNN1.predict(x_test)"
   ]
  },
  {
   "cell_type": "code",
   "execution_count": 28,
   "metadata": {
    "execution": {
     "iopub.execute_input": "2020-11-28T13:06:37.668430Z",
     "iopub.status.busy": "2020-11-28T13:06:37.667702Z",
     "iopub.status.idle": "2020-11-28T13:06:37.675051Z",
     "shell.execute_reply": "2020-11-28T13:06:37.675677Z"
    },
    "papermill": {
     "duration": 0.062784,
     "end_time": "2020-11-28T13:06:37.675799",
     "exception": false,
     "start_time": "2020-11-28T13:06:37.613015",
     "status": "completed"
    },
    "tags": []
   },
   "outputs": [
    {
     "data": {
      "text/plain": [
       "array([[147,  23],\n",
       "       [ 40,  46]])"
      ]
     },
     "execution_count": 28,
     "metadata": {},
     "output_type": "execute_result"
    }
   ],
   "source": [
    "#show result\n",
    "cn1=confusion_matrix(y_test,y_pred_KNN_1)\n",
    "cn1"
   ]
  },
  {
   "cell_type": "code",
   "execution_count": 29,
   "metadata": {
    "execution": {
     "iopub.execute_input": "2020-11-28T13:06:37.785464Z",
     "iopub.status.busy": "2020-11-28T13:06:37.784491Z",
     "iopub.status.idle": "2020-11-28T13:06:37.902508Z",
     "shell.execute_reply": "2020-11-28T13:06:37.903086Z"
    },
    "papermill": {
     "duration": 0.174882,
     "end_time": "2020-11-28T13:06:37.903262",
     "exception": false,
     "start_time": "2020-11-28T13:06:37.728380",
     "status": "completed"
    },
    "tags": []
   },
   "outputs": [
    {
     "data": {
      "text/plain": [
       "array([[148,  22],\n",
       "       [ 38,  48]])"
      ]
     },
     "execution_count": 29,
     "metadata": {},
     "output_type": "execute_result"
    }
   ],
   "source": [
    "#training better KNN model\n",
    "KNN2=KNeighborsClassifier(leaf_size=10, n_neighbors=25, p=1,weights='uniform',algorithm='auto')\n",
    "KNN2.fit(x_train,y_train)\n",
    "#predict & show result\n",
    "y_pred_KNN_2=KNN2.predict(x_test)\n",
    "cn=confusion_matrix(y_test,y_pred_KNN_2)\n",
    "cn"
   ]
  },
  {
   "cell_type": "code",
   "execution_count": 30,
   "metadata": {
    "execution": {
     "iopub.execute_input": "2020-11-28T13:06:38.022415Z",
     "iopub.status.busy": "2020-11-28T13:06:38.021442Z",
     "iopub.status.idle": "2020-11-28T13:06:38.209945Z",
     "shell.execute_reply": "2020-11-28T13:06:38.210542Z"
    },
    "papermill": {
     "duration": 0.248651,
     "end_time": "2020-11-28T13:06:38.210708",
     "exception": false,
     "start_time": "2020-11-28T13:06:37.962057",
     "status": "completed"
    },
    "tags": []
   },
   "outputs": [
    {
     "data": {
      "text/plain": [
       "Text(0.5, 1.0, 'Confusion matrix')"
      ]
     },
     "execution_count": 30,
     "metadata": {},
     "output_type": "execute_result"
    },
    {
     "data": {
      "image/png": "[encoded data removed]",
      "text/plain": [
       "<Figure size 432x288 with 2 Axes>"
      ]
     },
     "metadata": {
      "needs_background": "light"
     },
     "output_type": "display_data"
    }
   ],
   "source": [
    "#visualize result\n",
    "from sklearn import metrics\n",
    "cnf_matrix = metrics.confusion_matrix(y_test, y_pred_KNN_2)\n",
    "p = sns.heatmap(pd.DataFrame(cnf_matrix), annot=True,fmt='g')\n",
    "plt.title('Confusion matrix')"
   ]
  },
  {
   "cell_type": "code",
   "execution_count": 31,
   "metadata": {
    "execution": {
     "iopub.execute_input": "2020-11-28T13:06:38.328205Z",
     "iopub.status.busy": "2020-11-28T13:06:38.327202Z",
     "iopub.status.idle": "2020-11-28T13:06:38.338072Z",
     "shell.execute_reply": "2020-11-28T13:06:38.337324Z"
    },
    "papermill": {
     "duration": 0.069585,
     "end_time": "2020-11-28T13:06:38.338237",
     "exception": false,
     "start_time": "2020-11-28T13:06:38.268652",
     "status": "completed"
    },
    "tags": []
   },
   "outputs": [
    {
     "name": "stdout",
     "output_type": "stream",
     "text": [
      "              precision    recall  f1-score   support\n",
      "\n",
      "           0       0.80      0.87      0.83       170\n",
      "           1       0.69      0.56      0.62        86\n",
      "\n",
      "    accuracy                           0.77       256\n",
      "   macro avg       0.74      0.71      0.72       256\n",
      "weighted avg       0.76      0.77      0.76       256\n",
      "\n"
     ]
    }
   ],
   "source": [
    "#classification_report\n",
    "print(classification_report(y_test,y_pred_KNN_2))"
   ]
  },
  {
   "cell_type": "markdown",
   "metadata": {
    "papermill": {
     "duration": 0.053634,
     "end_time": "2020-11-28T13:06:38.446388",
     "exception": false,
     "start_time": "2020-11-28T13:06:38.392754",
     "status": "completed"
    },
    "tags": []
   },
   "source": [
    "# train a SVC model"
   ]
  },
  {
   "cell_type": "code",
   "execution_count": 32,
   "metadata": {
    "execution": {
     "iopub.execute_input": "2020-11-28T13:06:38.562031Z",
     "iopub.status.busy": "2020-11-28T13:06:38.561113Z",
     "iopub.status.idle": "2020-11-28T13:06:38.576439Z",
     "shell.execute_reply": "2020-11-28T13:06:38.577131Z"
    },
    "papermill": {
     "duration": 0.076526,
     "end_time": "2020-11-28T13:06:38.577288",
     "exception": false,
     "start_time": "2020-11-28T13:06:38.500762",
     "status": "completed"
    },
    "tags": []
   },
   "outputs": [
    {
     "data": {
      "text/plain": [
       "array([[143,  27],\n",
       "       [ 36,  50]])"
      ]
     },
     "execution_count": 32,
     "metadata": {},
     "output_type": "execute_result"
    }
   ],
   "source": [
    "model_svc=SVC(C=10.0,kernel='rbf',gamma='auto')\n",
    "model_svc.fit(x_train,y_train)\n",
    "y_pred_SVC=model_svc.predict(x_test)\n",
    "cn=confusion_matrix(y_test,y_pred_SVC)\n",
    "cn"
   ]
  },
  {
   "cell_type": "code",
   "execution_count": 33,
   "metadata": {
    "execution": {
     "iopub.execute_input": "2020-11-28T13:06:38.693760Z",
     "iopub.status.busy": "2020-11-28T13:06:38.692771Z",
     "iopub.status.idle": "2020-11-28T13:06:38.875682Z",
     "shell.execute_reply": "2020-11-28T13:06:38.876268Z"
    },
    "papermill": {
     "duration": 0.244458,
     "end_time": "2020-11-28T13:06:38.876416",
     "exception": false,
     "start_time": "2020-11-28T13:06:38.631958",
     "status": "completed"
    },
    "tags": []
   },
   "outputs": [
    {
     "data": {
      "text/plain": [
       "Text(0.5, 1.0, 'Confusion matrix')"
      ]
     },
     "execution_count": 33,
     "metadata": {},
     "output_type": "execute_result"
    },
    {
     "data": {
      "image/png": "[encoded data removed]",
      "text/plain": [
       "<Figure size 432x288 with 2 Axes>"
      ]
     },
     "metadata": {
      "needs_background": "light"
     },
     "output_type": "display_data"
    }
   ],
   "source": [
    "cnf_matrix_2 = metrics.confusion_matrix(y_test, y_pred_SVC)\n",
    "p = sns.heatmap(pd.DataFrame(cnf_matrix_2), annot=True,fmt='g')\n",
    "plt.title('Confusion matrix')"
   ]
  },
  {
   "cell_type": "code",
   "execution_count": 34,
   "metadata": {
    "execution": {
     "iopub.execute_input": "2020-11-28T13:06:39.009209Z",
     "iopub.status.busy": "2020-11-28T13:06:39.007989Z",
     "iopub.status.idle": "2020-11-28T13:06:39.019362Z",
     "shell.execute_reply": "2020-11-28T13:06:39.018571Z"
    },
    "papermill": {
     "duration": 0.081583,
     "end_time": "2020-11-28T13:06:39.019487",
     "exception": false,
     "start_time": "2020-11-28T13:06:38.937904",
     "status": "completed"
    },
    "tags": []
   },
   "outputs": [
    {
     "name": "stdout",
     "output_type": "stream",
     "text": [
      "              precision    recall  f1-score   support\n",
      "\n",
      "           0       0.80      0.84      0.82       170\n",
      "           1       0.65      0.58      0.61        86\n",
      "\n",
      "    accuracy                           0.75       256\n",
      "   macro avg       0.72      0.71      0.72       256\n",
      "weighted avg       0.75      0.75      0.75       256\n",
      "\n"
     ]
    }
   ],
   "source": [
    "print(classification_report(y_test,y_pred_SVC))"
   ]
  },
  {
   "cell_type": "markdown",
   "metadata": {
    "papermill": {
     "duration": 0.061909,
     "end_time": "2020-11-28T13:06:39.145360",
     "exception": false,
     "start_time": "2020-11-28T13:06:39.083451",
     "status": "completed"
    },
    "tags": []
   },
   "source": [
    "# Test models"
   ]
  },
  {
   "cell_type": "code",
   "execution_count": 35,
   "metadata": {
    "execution": {
     "iopub.execute_input": "2020-11-28T13:06:39.281547Z",
     "iopub.status.busy": "2020-11-28T13:06:39.280679Z",
     "iopub.status.idle": "2020-11-28T13:06:39.292981Z",
     "shell.execute_reply": "2020-11-28T13:06:39.292379Z"
    },
    "papermill": {
     "duration": 0.083136,
     "end_time": "2020-11-28T13:06:39.293099",
     "exception": false,
     "start_time": "2020-11-28T13:06:39.209963",
     "status": "completed"
    },
    "tags": []
   },
   "outputs": [
    {
     "data": {
      "text/plain": [
       "array([1])"
      ]
     },
     "execution_count": 35,
     "metadata": {},
     "output_type": "execute_result"
    }
   ],
   "source": [
    "#extrnal data\n",
    "#SVC_model\n",
    "new_df = pd.DataFrame([[6, 168, 72, 35, 0, 43.6, 0.627, 65]])\n",
    "new_df_scaled = scaler.transform(new_df)\n",
    "prediction_SVC_1 = model_svc.predict(new_df_scaled)\n",
    "prediction_SVC_1"
   ]
  },
  {
   "cell_type": "code",
   "execution_count": 36,
   "metadata": {
    "execution": {
     "iopub.execute_input": "2020-11-28T13:06:39.431067Z",
     "iopub.status.busy": "2020-11-28T13:06:39.430049Z",
     "iopub.status.idle": "2020-11-28T13:06:39.434027Z",
     "shell.execute_reply": "2020-11-28T13:06:39.434642Z"
    },
    "papermill": {
     "duration": 0.076915,
     "end_time": "2020-11-28T13:06:39.434806",
     "exception": false,
     "start_time": "2020-11-28T13:06:39.357891",
     "status": "completed"
    },
    "tags": []
   },
   "outputs": [
    {
     "data": {
      "text/plain": [
       "array([1])"
      ]
     },
     "execution_count": 36,
     "metadata": {},
     "output_type": "execute_result"
    }
   ],
   "source": [
    "#KNN_model\n",
    "prediction_KNN_1 = KNN2.predict(new_df_scaled)\n",
    "prediction_KNN_1"
   ]
  },
  {
   "cell_type": "code",
   "execution_count": 37,
   "metadata": {
    "execution": {
     "iopub.execute_input": "2020-11-28T13:06:39.579041Z",
     "iopub.status.busy": "2020-11-28T13:06:39.577916Z",
     "iopub.status.idle": "2020-11-28T13:06:39.584628Z",
     "shell.execute_reply": "2020-11-28T13:06:39.583996Z"
    },
    "papermill": {
     "duration": 0.083706,
     "end_time": "2020-11-28T13:06:39.584752",
     "exception": false,
     "start_time": "2020-11-28T13:06:39.501046",
     "status": "completed"
    },
    "tags": []
   },
   "outputs": [
    {
     "data": {
      "text/plain": [
       "array([0])"
      ]
     },
     "execution_count": 37,
     "metadata": {},
     "output_type": "execute_result"
    }
   ],
   "source": [
    "#random row from data\n",
    "#SVC_model\n",
    "row_3 = pd.DataFrame([[1,89,66,23,94,28.1,0.167,21]])\n",
    "row_3_scaled=scaler.transform(row_3)\n",
    "prediction_SVC_2 = model_svc.predict(row_3_scaled)\n",
    "prediction_SVC_2"
   ]
  },
  {
   "cell_type": "code",
   "execution_count": 38,
   "metadata": {
    "execution": {
     "iopub.execute_input": "2020-11-28T13:06:39.715430Z",
     "iopub.status.busy": "2020-11-28T13:06:39.714441Z",
     "iopub.status.idle": "2020-11-28T13:06:39.719198Z",
     "shell.execute_reply": "2020-11-28T13:06:39.718650Z"
    },
    "papermill": {
     "duration": 0.069596,
     "end_time": "2020-11-28T13:06:39.719307",
     "exception": false,
     "start_time": "2020-11-28T13:06:39.649711",
     "status": "completed"
    },
    "tags": []
   },
   "outputs": [
    {
     "data": {
      "text/plain": [
       "array([0])"
      ]
     },
     "execution_count": 38,
     "metadata": {},
     "output_type": "execute_result"
    }
   ],
   "source": [
    "#KNN_model\n",
    "prediction_KNN_2 = KNN2.predict(row_3_scaled)\n",
    "prediction_KNN_2"
   ]
  },
  {
   "cell_type": "markdown",
   "metadata": {
    "papermill": {
     "duration": 0.059043,
     "end_time": "2020-11-28T13:06:39.838378",
     "exception": false,
     "start_time": "2020-11-28T13:06:39.779335",
     "status": "completed"
    },
    "tags": []
   },
   "source": [
    "# save models"
   ]
  },
  {
   "cell_type": "code",
   "execution_count": 39,
   "metadata": {
    "execution": {
     "iopub.execute_input": "2020-11-28T13:06:39.960334Z",
     "iopub.status.busy": "2020-11-28T13:06:39.959398Z",
     "iopub.status.idle": "2020-11-28T13:06:39.983238Z",
     "shell.execute_reply": "2020-11-28T13:06:39.982553Z"
    },
    "papermill": {
     "duration": 0.088004,
     "end_time": "2020-11-28T13:06:39.983348",
     "exception": false,
     "start_time": "2020-11-28T13:06:39.895344",
     "status": "completed"
    },
    "tags": []
   },
   "outputs": [
    {
     "data": {
      "text/plain": [
       "array([0, 0, 0, 0, 1, 1, 0, 1, 0, 1, 0, 1, 0, 0, 0, 0, 0, 0, 1, 0, 0, 0,\n",
       "       0, 0, 0, 1, 0, 0, 0, 0, 0, 0, 1, 1, 1, 1, 1, 0, 0, 0, 0, 0, 1, 0,\n",
       "       0, 0, 1, 0, 0, 1, 0, 1, 1, 0, 0, 0, 1, 0, 0, 1, 1, 0, 0, 0, 0, 0,\n",
       "       0, 1, 0, 1, 1, 0, 0, 0, 0, 0, 0, 0, 0, 0, 1, 0, 0, 0, 0, 1, 1, 0,\n",
       "       0, 0, 0, 0, 0, 1, 0, 1, 0, 0, 1, 0, 1, 0, 1, 0, 1, 0, 0, 1, 0, 1,\n",
       "       0, 0, 0, 1, 0, 0, 1, 0, 0, 0, 0, 0, 0, 0, 0, 0, 0, 1, 1, 1, 1, 1,\n",
       "       0, 0, 1, 0, 0, 1, 1, 0, 0, 0, 0, 0, 0, 0, 0, 0, 0, 1, 0, 0, 0, 0,\n",
       "       0, 1, 0, 0, 1, 0, 0, 1, 0, 0, 0, 1, 0, 0, 1, 1, 1, 0, 0, 0, 1, 0,\n",
       "       0, 0, 0, 0, 0, 0, 1, 1, 0, 0, 0, 0, 1, 1, 0, 0, 1, 0, 0, 0, 0, 0,\n",
       "       0, 1, 0, 0, 1, 0, 1, 0, 0, 0, 1, 1, 0, 0, 0, 0, 1, 0, 1, 0, 0, 1,\n",
       "       1, 0, 0, 0, 0, 1, 0, 0, 0, 0, 0, 0, 0, 0, 0, 0, 0, 0, 0, 0, 0, 0,\n",
       "       1, 0, 0, 0, 0, 0, 0, 0, 0, 0, 1, 0, 0, 0])"
      ]
     },
     "execution_count": 39,
     "metadata": {},
     "output_type": "execute_result"
    }
   ],
   "source": [
    "import pickle\n",
    "Pkl_Filename = \"KNN.pkl\"  \n",
    "\n",
    "with open(Pkl_Filename, 'wb') as file:  \n",
    "    pickle.dump(KNN2, file)\n",
    "# Load the Model back from file\n",
    "with open(Pkl_Filename, 'rb') as file:  \n",
    "    Pickled_LR_Model = pickle.load(file)\n",
    "\n",
    "Pickled_LR_Model.predict(x_test)"
   ]
  },
  {
   "cell_type": "code",
   "execution_count": 40,
   "metadata": {
    "execution": {
     "iopub.execute_input": "2020-11-28T13:06:40.111730Z",
     "iopub.status.busy": "2020-11-28T13:06:40.110773Z",
     "iopub.status.idle": "2020-11-28T13:06:40.120924Z",
     "shell.execute_reply": "2020-11-28T13:06:40.120385Z"
    },
    "papermill": {
     "duration": 0.076728,
     "end_time": "2020-11-28T13:06:40.121038",
     "exception": false,
     "start_time": "2020-11-28T13:06:40.044310",
     "status": "completed"
    },
    "tags": []
   },
   "outputs": [
    {
     "data": {
      "text/plain": [
       "array([0, 0, 0, 0, 0, 0, 0, 0, 1, 1, 0, 1, 0, 0, 0, 0, 0, 0, 1, 1, 0, 0,\n",
       "       0, 0, 1, 1, 0, 0, 0, 0, 1, 1, 1, 1, 1, 1, 1, 0, 0, 1, 0, 1, 1, 0,\n",
       "       0, 1, 1, 0, 0, 1, 0, 1, 1, 0, 0, 0, 1, 0, 0, 1, 1, 0, 0, 0, 0, 1,\n",
       "       0, 1, 0, 1, 1, 0, 0, 0, 0, 0, 0, 0, 0, 0, 1, 0, 0, 0, 0, 1, 1, 0,\n",
       "       0, 0, 0, 0, 0, 0, 0, 1, 0, 0, 1, 0, 1, 0, 1, 1, 1, 0, 0, 1, 0, 0,\n",
       "       0, 0, 0, 1, 0, 0, 1, 0, 0, 0, 0, 0, 0, 0, 0, 0, 0, 1, 1, 1, 1, 1,\n",
       "       0, 0, 1, 0, 0, 1, 1, 0, 0, 0, 0, 0, 0, 0, 0, 0, 0, 1, 0, 0, 0, 0,\n",
       "       0, 0, 0, 1, 1, 0, 0, 1, 0, 0, 0, 1, 0, 0, 1, 1, 1, 0, 0, 1, 1, 0,\n",
       "       0, 0, 0, 0, 0, 1, 0, 1, 1, 0, 0, 0, 1, 0, 0, 0, 1, 0, 0, 0, 0, 0,\n",
       "       0, 1, 0, 0, 0, 0, 1, 0, 0, 0, 1, 1, 0, 0, 0, 0, 1, 0, 1, 0, 0, 1,\n",
       "       1, 0, 0, 0, 0, 1, 0, 0, 0, 0, 0, 0, 0, 0, 0, 0, 0, 0, 0, 0, 0, 0,\n",
       "       1, 0, 0, 0, 1, 0, 0, 0, 0, 0, 1, 0, 0, 1])"
      ]
     },
     "execution_count": 40,
     "metadata": {},
     "output_type": "execute_result"
    }
   ],
   "source": [
    "Pkl_Filename_2 = \"SVC.pkl\"  \n",
    "\n",
    "with open(Pkl_Filename_2, 'wb') as file:  \n",
    "    pickle.dump(model_svc, file)\n",
    "# Load the Model back from file\n",
    "with open(Pkl_Filename_2, 'rb') as file:  \n",
    "    Pickled_LR_Model_2 = pickle.load(file)\n",
    "\n",
    "Pickled_LR_Model_2.predict(x_test)"
   ]
  }
 ],
 "metadata": {
  "kernelspec": {
   "display_name": "Python 3",
   "language": "python",
   "name": "python3"
  },
  "language_info": {
   "codemirror_mode": {
    "name": "ipython",
    "version": 3
   },
   "file_extension": ".py",
   "mimetype": "text/x-python",
   "name": "python",
   "nbconvert_exporter": "python",
   "pygments_lexer": "ipython3",
   "version": "3.7.6"
  },
  "papermill": {
   "duration": 16.086209,
   "end_time": "2020-11-28T13:06:40.290532",
   "environment_variables": {},
   "exception": null,
   "input_path": "__notebook__.ipynb",
   "output_path": "__notebook__.ipynb",
   "parameters": {},
   "start_time": "2020-11-28T13:06:24.204323",
   "version": "2.1.0"
  }
 },
 "nbformat": 4,
 "nbformat_minor": 4
}
